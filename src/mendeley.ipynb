{
 "cells": [
  {
   "cell_type": "markdown",
   "metadata": {},
   "source": [
    "# Cardiovascular Disease Dataset Analysis\n",
    "\n",
    "This notebook handles the dataset described in the provided dataset structure, including data exploration, cleaning, and feature analysis."
   ]
  },
  {
   "cell_type": "markdown",
   "metadata": {},
   "source": [
    "## Environment Setup\n",
    "1. `cd environment`\n",
    "2. `conda env create -f project_env.yml`\n",
    "3. `conda activate project_env`\n",
    "\n",
    "If that doesn't work...\n",
    "1. `!pip install pandas matplotlib scikit-learn` (installing dependencies)"
   ]
  },
  {
   "cell_type": "markdown",
   "metadata": {},
   "source": [
    "## Data Dictionary\n",
    "- `patientid`: Patient Identification Number (Numeric)\n",
    "- `age`: Age in Years (Numeric)\n",
    "- `gender`: Gender (Binary: 0 = female, 1 = male)\n",
    "- `chestpain`: Chest pain type (Nominal: 0 = typical angina, 1 = atypical angina, 2 = non-anginal pain, 3 = asymptomatic)\n",
    "- `restingBP`: Resting blood pressure (Numeric: 94-200 mm Hg)\n",
    "- `serumcholestrol`: Serum cholesterol (Numeric: 126-564 mg/dl)\n",
    "- `fastingbloodsugar`: Fasting blood sugar > 120 mg/dl (Binary: 0 = false, 1 = true)\n",
    "- `restingelectro`: Resting electrocardiogram results (Nominal: 0 = normal, 1 = having ST-T wave abnormality, 2 = showing probable or definite left ventricular hypertrophy)\n",
    "- `maxheartrate`: Maximum heart rate achieved (Numeric: 71-202 bpm)\n",
    "- `exerciseangia`: Exercise induced angina (Binary: 0 = no, 1 = yes)\n",
    "- `oldpeak`: ST depression induced by exercise (Numeric: 0-6.2)\n",
    "- `slope`: Slope of peak exercise ST segment (Nominal: 1 = upsloping, 2 = flat, 3 = downsloping)\n",
    "- `noofmajorvessels`: Number of major vessels (Numeric: 0-3)\n",
    "- `target`: Classification (Binary: 0 = Absence of Heart Disease, 1 = Presence of Heart Disease)"
   ]
  },
  {
   "cell_type": "markdown",
   "metadata": {},
   "source": [
    "## Data Loading and Cleaning\n",
    "We will load the dataset and perform basic cleaning, handling any missing values and preparing the data for analysis."
   ]
  },
  {
   "cell_type": "code",
   "execution_count": 1,
   "metadata": {},
   "outputs": [],
   "source": [
    "import pandas as pd\n",
    "import numpy as np\n",
    "import matplotlib.pyplot as plt\n",
    "import math"
   ]
  },
  {
   "cell_type": "code",
   "execution_count": 2,
   "metadata": {},
   "outputs": [
    {
     "name": "stdout",
     "output_type": "stream",
     "text": [
      "Dataset Shape: (number of rows, number of columns)\n",
      "(303, 14)\n"
     ]
    }
   ],
   "source": [
    "# Load the dataset\n",
    "data = pd.read_csv('/path_to_dataset/cardiovascular_disease.csv')\n",
    "\n",
    "# Check the structure of the dataset\n",
    "print('Dataset Shape: (number of rows, number of columns)')\n",
    "print(data.shape)\n",
    "\n",
    "# Display the first few rows\n",
    "data.head()"
   ]
  },
  {
   "cell_type": "markdown",
   "metadata": {},
   "source": [
    "From the data structure, we can see the columns match the cardiovascular dataset description with 303 patient records and 14 attributes. Next, we will check for missing values and clean the data."
   ]
  },
  {
   "cell_type": "code",
   "execution_count": 3,
   "metadata": {},
   "outputs": [
    {
     "name": "stdout",
     "output_type": "stream",
     "text": [
      "Missing values in each column:\n",
      "patientid            0\n",
      "age                  0\n",
      "gender               0\n",
      "chestpain            0\n",
      "restingBP            0\n",
      "serumcholestrol      0\n",
      "fastingbloodsugar    0\n",
      "restingelectro       0\n",
      "maxheartrate         0\n",
      "exerciseangia        0\n",
      "oldpeak              0\n",
      "slope                0\n",
      "noofmajorvessels     4\n",
      "target               0\n",
      "dtype: int64\n"
     ]
    }
   ],
   "source": [
    "# Check for missing values\n",
    "print('Missing values in each column:')\n",
    "print(data.isnull().sum())"
   ]
  },
  {
   "cell_type": "markdown",
   "metadata": {},
   "source": [
    "There are 4 missing values in the `noofmajorvessels` column. We will impute these values using the mean value for this feature."
   ]
  },
  {
   "cell_type": "code",
   "execution_count": 4,
   "metadata": {},
   "outputs": [
    {
     "name": "stdout",
     "output_type": "stream",
     "text": [
      "Imputed missing values with mean: 1\n"
     ]
    }
   ],
   "source": [
    "# Impute missing values in 'noofmajorvessels' with mean\n",
    "mean_value = int(math.ceil(data['noofmajorvessels'].mean()))\n",
    "print(f\"Imputed missing values with mean: {mean_value}\")\n",
    "data['noofmajorvessels'].fillna(mean_value, inplace=True)"
   ]
  },
  {
   "cell_type": "markdown",
   "metadata": {},
   "source": [
    "Now that we've imputed missing values, let's check the data types and begin exploring the dataset with visualizations."
   ]
  },
  {
   "cell_type": "code",
   "execution_count": 5,
   "metadata": {},
   "outputs": [
    {
     "name": "stdout",
     "output_type": "stream",
     "text": [
      "<class 'pandas.core.frame.DataFrame'>\n",
      "RangeIndex: 303 entries, 0 to 302\n",
      "Data columns (total 14 columns):\n",
      " #   Column             Non-Null Count  Dtype  \n",
      "---  ------             --------------  -----  \n",
      " 0   patientid          303 non-null    int64  \n",
      " 1   age                303 non-null    int64  \n",
      " 2   gender             303 non-null    int64  \n",
      " 3   chestpain          303 non-null    int64  \n",
      " 4   restingBP          303 non-null    int64  \n",
      " 5   serumcholestrol    303 non-null    int64  \n",
      " 6   fastingbloodsugar  303 non-null    int64  \n",
      " 7   restingelectro     303 non-null    int64  \n",
      " 8   maxheartrate       303 non-null    int64  \n",
      " 9   exerciseangia      303 non-null    int64  \n",
      "10  oldpeak            303 non-null    float64\n",
      "11  slope              303 non-null    int64  \n",
      "12  noofmajorvessels   303 non-null    int64  \n",
      "13  target             303 non-null    int64  \n",
      "dtypes: float64(1), int64(13)\n",
      "memory usage: 33.3 KB\n"
     ]
    }
   ],
   "source": [
    "# Check data types and overall info\n",
    "data.info()"
   ]
  },
  {
   "cell_type": "markdown",
   "metadata": {},
   "source": [
    "## Data Visualization\n",
    "We will now visualize some key attributes to understand their distribution and explore correlations with the target variable (`target` = presence of heart disease)."
   ]
  },
  {
   "cell_type": "code",
   "execution_count": 6,
   "metadata": {},
   "outputs": [],
   "source": [
    "# Visualize the distribution of age\n",
    "plt.figure(figsize=(8,6))\n",
    "plt.hist(data['age'], bins=20, color='lightblue', edgecolor='black')\n",
    "plt.title('Age Distribution')\n",
    "plt.xlabel('Age')\n",
    "plt.ylabel('Frequency')\n",
    "plt.show()"
   ]
  },
  {
   "cell_type": "code",
   "execution_count": 7,
   "metadata": {},
   "outputs": [],
   "source": [
    "# Plot the distribution of chest pain types\n",
    "plt.figure(figsize=(8,6))\n",
    "data['chestpain'].value_counts().plot(kind='bar', color='salmon', edgecolor='black')\n",
    "plt.title('Distribution of Chest Pain Types')\n",
    "plt.xlabel('Chest Pain Type')\n",
    "plt.ylabel('Count')\n",
    "plt.show()"
   ]
  },
  {
   "cell_type": "code",
   "execution_count": 8,
   "metadata": {},
   "outputs": [],
   "source": [
    "# Visualize the correlation between maxheartrate and target\n",
    "plt.figure(figsize=(8,6))\n",
    "plt.scatter(data['maxheartrate'], data['target'], color='green')\n",
    "plt.title('Max Heart Rate vs. Heart Disease Presence')\n",
    "plt.xlabel('Max Heart Rate')\n",
    "plt.ylabel('Heart Disease (0 = No, 1 = Yes)')\n",
    "plt.show()"
   ]
  },
  {
   "cell_type": "markdown",
   "metadata": {},
   "source": [
    "From these visualizations, we can explore how certain features like `age`, `chestpain`, and `maxheartrate` vary with the target variable (presence of heart disease). We can also see the overall distribution of age and other categorical features."
   ]
  }
 ],
 "metadata": {
  "kernelspec": {
   "display_name": "Python 3",
   "language": "python",
   "name": "python3"
  },
  "language_info": {
   "codemirror_mode": {
    "name": "ipython",
    "version": 3
   },
   "file_extension": ".py",
   "mimetype": "text/x-python",
   "name": "python",
   "nbconvert_exporter": "python",
   "pygments_lexer": "ipython3",
   "version": "3.8.5"
  }
 },
 "nbformat": 4,
 "nbformat_minor": 2
}
