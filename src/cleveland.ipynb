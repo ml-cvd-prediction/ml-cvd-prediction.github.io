{
 "cells": [
  {
   "cell_type": "markdown",
   "metadata": {},
   "source": [
    "# Cleveland Heart Disease Dataset\n",
    "\n",
    "This dataset is available for download [here](https://archive.ics.uci.edu/dataset/45/heart+disease)."
   ]
  },
  {
   "cell_type": "markdown",
   "metadata": {},
   "source": [
    "## Getting Started\n",
    "1. `conda activate` (I already have conda miniforge installed)\n",
    "2. `!pip3 install -U ucimlrepo`"
   ]
  },
  {
   "cell_type": "markdown",
   "metadata": {},
   "source": [
    "## Data Cleaning and Exploration"
   ]
  },
  {
   "cell_type": "code",
   "execution_count": 1,
   "metadata": {},
   "outputs": [],
   "source": [
    "from ucimlrepo import fetch_ucirepo \n",
    "import pprint\n",
    "import pandas as pd\n",
    "import math\n",
    "import matplotlib\n",
    "import matplotlib.pyplot as plt"
   ]
  },
  {
   "cell_type": "code",
   "execution_count": 2,
   "metadata": {},
   "outputs": [
    {
     "name": "stdout",
     "output_type": "stream",
     "text": [
      "Heart Disease metadata\n",
      "{   'abstract': '4 databases: Cleveland, Hungary, Switzerland, and the VA Long '\n",
      "                'Beach',\n",
      "    'additional_info': {   'citation': None,\n",
      "                           'funded_by': None,\n",
      "                           'instances_represent': None,\n",
      "                           'preprocessing_description': None,\n",
      "                           'purpose': None,\n",
      "                           'recommended_data_splits': None,\n",
      "                           'sensitive_data': None,\n",
      "                           'summary': 'This database contains 76 attributes, '\n",
      "                                      'but all published experiments refer to '\n",
      "                                      'using a subset of 14 of them.  In '\n",
      "                                      'particular, the Cleveland database is '\n",
      "                                      'the only one that has been used by ML '\n",
      "                                      'researchers to date.  The \"goal\" field '\n",
      "                                      'refers to the presence of heart disease '\n",
      "                                      'in the patient.  It is integer valued '\n",
      "                                      'from 0 (no presence) to 4. Experiments '\n",
      "                                      'with the Cleveland database have '\n",
      "                                      'concentrated on simply attempting to '\n",
      "                                      'distinguish presence (values 1,2,3,4) '\n",
      "                                      'from absence (value 0).  \\n'\n",
      "                                      '   \\n'\n",
      "                                      'The names and social security numbers '\n",
      "                                      'of the patients were recently removed '\n",
      "                                      'from the database, replaced with dummy '\n",
      "                                      'values.\\n'\n",
      "                                      '\\n'\n",
      "                                      'One file has been \"processed\", that one '\n",
      "                                      'containing the Cleveland database.  All '\n",
      "                                      'four unprocessed files also exist in '\n",
      "                                      'this directory.\\n'\n",
      "                                      '\\n'\n",
      "                                      'To see Test Costs (donated by Peter '\n",
      "                                      'Turney), please see the folder \"Costs\" ',\n",
      "                           'variable_info': 'Only 14 attributes used:\\r\\n'\n",
      "                                            '      1. #3  (age)       \\r\\n'\n",
      "                                            '      2. #4  (sex)       \\r\\n'\n",
      "                                            '      3. #9  (cp)        \\r\\n'\n",
      "                                            '      4. #10 (trestbps)  \\r\\n'\n",
      "                                            '      5. #12 (chol)      \\r\\n'\n",
      "                                            '      6. #16 (fbs)       \\r\\n'\n",
      "                                            '      7. #19 (restecg)   \\r\\n'\n",
      "                                            '      8. #32 (thalach)   \\r\\n'\n",
      "                                            '      9. #38 (exang)     \\r\\n'\n",
      "                                            '      10. #40 (oldpeak)   \\r\\n'\n",
      "                                            '      11. #41 (slope)     \\r\\n'\n",
      "                                            '      12. #44 (ca)        \\r\\n'\n",
      "                                            '      13. #51 (thal)      \\r\\n'\n",
      "                                            '      14. #58 (num)       (the '\n",
      "                                            'predicted attribute)\\r\\n'\n",
      "                                            '\\r\\n'\n",
      "                                            'Complete attribute '\n",
      "                                            'documentation:\\r\\n'\n",
      "                                            '      1 id: patient '\n",
      "                                            'identification number\\r\\n'\n",
      "                                            '      2 ccf: social security '\n",
      "                                            'number (I replaced this with a '\n",
      "                                            'dummy value of 0)\\r\\n'\n",
      "                                            '      3 age: age in years\\r\\n'\n",
      "                                            '      4 sex: sex (1 = male; 0 = '\n",
      "                                            'female)\\r\\n'\n",
      "                                            '      5 painloc: chest pain '\n",
      "                                            'location (1 = substernal; 0 = '\n",
      "                                            'otherwise)\\r\\n'\n",
      "                                            '      6 painexer (1 = provoked by '\n",
      "                                            'exertion; 0 = otherwise)\\r\\n'\n",
      "                                            '      7 relrest (1 = relieved '\n",
      "                                            'after rest; 0 = otherwise)\\r\\n'\n",
      "                                            '      8 pncaden (sum of 5, 6, and '\n",
      "                                            '7)\\r\\n'\n",
      "                                            '      9 cp: chest pain type\\r\\n'\n",
      "                                            '        -- Value 1: typical '\n",
      "                                            'angina\\r\\n'\n",
      "                                            '        -- Value 2: atypical '\n",
      "                                            'angina\\r\\n'\n",
      "                                            '        -- Value 3: non-anginal '\n",
      "                                            'pain\\r\\n'\n",
      "                                            '        -- Value 4: '\n",
      "                                            'asymptomatic\\r\\n'\n",
      "                                            '     10 trestbps: resting blood '\n",
      "                                            'pressure (in mm Hg on admission '\n",
      "                                            'to the hospital)\\r\\n'\n",
      "                                            '     11 htn\\r\\n'\n",
      "                                            '     12 chol: serum cholestoral '\n",
      "                                            'in mg/dl\\r\\n'\n",
      "                                            '     13 smoke: I believe this is '\n",
      "                                            '1 = yes; 0 = no (is or is not a '\n",
      "                                            'smoker)\\r\\n'\n",
      "                                            '     14 cigs (cigarettes per '\n",
      "                                            'day)\\r\\n'\n",
      "                                            '     15 years (number of years as '\n",
      "                                            'a smoker)\\r\\n'\n",
      "                                            '     16 fbs: (fasting blood sugar '\n",
      "                                            '> 120 mg/dl)  (1 = true; 0 = '\n",
      "                                            'false)\\r\\n'\n",
      "                                            '     17 dm (1 = history of '\n",
      "                                            'diabetes; 0 = no such history)\\r\\n'\n",
      "                                            '     18 famhist: family history '\n",
      "                                            'of coronary artery disease (1 = '\n",
      "                                            'yes; 0 = no)\\r\\n'\n",
      "                                            '     19 restecg: resting '\n",
      "                                            'electrocardiographic results\\r\\n'\n",
      "                                            '        -- Value 0: normal\\r\\n'\n",
      "                                            '        -- Value 1: having ST-T '\n",
      "                                            'wave abnormality (T wave '\n",
      "                                            'inversions and/or ST elevation or '\n",
      "                                            'depression of > 0.05 mV)\\r\\n'\n",
      "                                            '        -- Value 2: showing '\n",
      "                                            'probable or definite left '\n",
      "                                            \"ventricular hypertrophy by Estes' \"\n",
      "                                            'criteria\\r\\n'\n",
      "                                            '     20 ekgmo (month of exercise '\n",
      "                                            'ECG reading)\\r\\n'\n",
      "                                            '     21 ekgday(day of exercise '\n",
      "                                            'ECG reading)\\r\\n'\n",
      "                                            '     22 ekgyr (year of exercise '\n",
      "                                            'ECG reading)\\r\\n'\n",
      "                                            '     23 dig (digitalis used '\n",
      "                                            'furing exercise ECG: 1 = yes; 0 = '\n",
      "                                            'no)\\r\\n'\n",
      "                                            '     24 prop (Beta blocker used '\n",
      "                                            'during exercise ECG: 1 = yes; 0 = '\n",
      "                                            'no)\\r\\n'\n",
      "                                            '     25 nitr (nitrates used '\n",
      "                                            'during exercise ECG: 1 = yes; 0 = '\n",
      "                                            'no)\\r\\n'\n",
      "                                            '     26 pro (calcium channel '\n",
      "                                            'blocker used during exercise ECG: '\n",
      "                                            '1 = yes; 0 = no)\\r\\n'\n",
      "                                            '     27 diuretic (diuretic used '\n",
      "                                            'used during exercise ECG: 1 = '\n",
      "                                            'yes; 0 = no)\\r\\n'\n",
      "                                            '     28 proto: exercise '\n",
      "                                            'protocol\\r\\n'\n",
      "                                            '          1 = Bruce     \\r\\n'\n",
      "                                            '          2 = Kottus\\r\\n'\n",
      "                                            '          3 = McHenry\\r\\n'\n",
      "                                            '          4 = fast Balke\\r\\n'\n",
      "                                            '          5 = Balke\\r\\n'\n",
      "                                            '          6 = Noughton \\r\\n'\n",
      "                                            '          7 = bike 150 kpa '\n",
      "                                            'min/min  (Not sure if \"kpa '\n",
      "                                            'min/min\" is what was written!)\\r\\n'\n",
      "                                            '          8 = bike 125 kpa '\n",
      "                                            'min/min  \\r\\n'\n",
      "                                            '          9 = bike 100 kpa '\n",
      "                                            'min/min\\r\\n'\n",
      "                                            '         10 = bike 75 kpa '\n",
      "                                            'min/min\\r\\n'\n",
      "                                            '         11 = bike 50 kpa '\n",
      "                                            'min/min\\r\\n'\n",
      "                                            '         12 = arm ergometer\\r\\n'\n",
      "                                            '     29 thaldur: duration of '\n",
      "                                            'exercise test in minutes\\r\\n'\n",
      "                                            '     30 thaltime: time when ST '\n",
      "                                            'measure depression was noted\\r\\n'\n",
      "                                            '     31 met: mets achieved\\r\\n'\n",
      "                                            '     32 thalach: maximum heart '\n",
      "                                            'rate achieved\\r\\n'\n",
      "                                            '     33 thalrest: resting heart '\n",
      "                                            'rate\\r\\n'\n",
      "                                            '     34 tpeakbps: peak exercise '\n",
      "                                            'blood pressure (first of 2 '\n",
      "                                            'parts)\\r\\n'\n",
      "                                            '     35 tpeakbpd: peak exercise '\n",
      "                                            'blood pressure (second of 2 '\n",
      "                                            'parts)\\r\\n'\n",
      "                                            '     36 dummy\\r\\n'\n",
      "                                            '     37 trestbpd: resting blood '\n",
      "                                            'pressure\\r\\n'\n",
      "                                            '     38 exang: exercise induced '\n",
      "                                            'angina (1 = yes; 0 = no)\\r\\n'\n",
      "                                            '     39 xhypo: (1 = yes; 0 = '\n",
      "                                            'no)\\r\\n'\n",
      "                                            '     40 oldpeak = ST depression '\n",
      "                                            'induced by exercise relative to '\n",
      "                                            'rest\\r\\n'\n",
      "                                            '     41 slope: the slope of the '\n",
      "                                            'peak exercise ST segment\\r\\n'\n",
      "                                            '        -- Value 1: upsloping\\r\\n'\n",
      "                                            '        -- Value 2: flat\\r\\n'\n",
      "                                            '        -- Value 3: '\n",
      "                                            'downsloping\\r\\n'\n",
      "                                            '     42 rldv5: height at rest\\r\\n'\n",
      "                                            '     43 rldv5e: height at peak '\n",
      "                                            'exercise\\r\\n'\n",
      "                                            '     44 ca: number of major '\n",
      "                                            'vessels (0-3) colored by '\n",
      "                                            'flourosopy\\r\\n'\n",
      "                                            '     45 restckm: irrelevant\\r\\n'\n",
      "                                            '     46 exerckm: irrelevant\\r\\n'\n",
      "                                            '     47 restef: rest raidonuclid '\n",
      "                                            '(sp?) ejection fraction\\r\\n'\n",
      "                                            '     48 restwm: rest wall (sp?) '\n",
      "                                            'motion abnormality\\r\\n'\n",
      "                                            '        0 = none\\r\\n'\n",
      "                                            '        1 = mild or moderate\\r\\n'\n",
      "                                            '        2 = moderate or severe\\r\\n'\n",
      "                                            '        3 = akinesis or dyskmem '\n",
      "                                            '(sp?)\\r\\n'\n",
      "                                            '     49 exeref: exercise '\n",
      "                                            'radinalid (sp?) ejection '\n",
      "                                            'fraction\\r\\n'\n",
      "                                            '     50 exerwm: exercise wall '\n",
      "                                            '(sp?) motion \\r\\n'\n",
      "                                            '     51 thal: 3 = normal; 6 = '\n",
      "                                            'fixed defect; 7 = reversable '\n",
      "                                            'defect\\r\\n'\n",
      "                                            '     52 thalsev: not used\\r\\n'\n",
      "                                            '     53 thalpul: not used\\r\\n'\n",
      "                                            '     54 earlobe: not used\\r\\n'\n",
      "                                            '     55 cmo: month of cardiac '\n",
      "                                            'cath (sp?)  (perhaps \"call\")\\r\\n'\n",
      "                                            '     56 cday: day of cardiac cath '\n",
      "                                            '(sp?)\\r\\n'\n",
      "                                            '     57 cyr: year of cardiac cath '\n",
      "                                            '(sp?)\\r\\n'\n",
      "                                            '     58 num: diagnosis of heart '\n",
      "                                            'disease (angiographic disease '\n",
      "                                            'status)\\r\\n'\n",
      "                                            '        -- Value 0: < 50% '\n",
      "                                            'diameter narrowing\\r\\n'\n",
      "                                            '        -- Value 1: > 50% '\n",
      "                                            'diameter narrowing\\r\\n'\n",
      "                                            '        (in any major vessel: '\n",
      "                                            'attributes 59 through 68 are '\n",
      "                                            'vessels)\\r\\n'\n",
      "                                            '     59 lmt\\r\\n'\n",
      "                                            '     60 ladprox\\r\\n'\n",
      "                                            '     61 laddist\\r\\n'\n",
      "                                            '     62 diag\\r\\n'\n",
      "                                            '     63 cxmain\\r\\n'\n",
      "                                            '     64 ramus\\r\\n'\n",
      "                                            '     65 om1\\r\\n'\n",
      "                                            '     66 om2\\r\\n'\n",
      "                                            '     67 rcaprox\\r\\n'\n",
      "                                            '     68 rcadist\\r\\n'\n",
      "                                            '     69 lvx1: not used\\r\\n'\n",
      "                                            '     70 lvx2: not used\\r\\n'\n",
      "                                            '     71 lvx3: not used\\r\\n'\n",
      "                                            '     72 lvx4: not used\\r\\n'\n",
      "                                            '     73 lvf: not used\\r\\n'\n",
      "                                            '     74 cathef: not used\\r\\n'\n",
      "                                            '     75 junk: not used\\r\\n'\n",
      "                                            '     76 name: last name of '\n",
      "                                            'patient  (I replaced this with '\n",
      "                                            'the dummy string \"name\")'},\n",
      "    'area': 'Health and Medicine',\n",
      "    'characteristics': ['Multivariate'],\n",
      "    'creators': [   'Andras Janosi',\n",
      "                    'William Steinbrunn',\n",
      "                    'Matthias Pfisterer',\n",
      "                    'Robert Detrano'],\n",
      "    'data_url': 'https://archive.ics.uci.edu/static/public/45/data.csv',\n",
      "    'dataset_doi': '10.24432/C52P4X',\n",
      "    'demographics': ['Age', 'Sex'],\n",
      "    'feature_types': ['Categorical', 'Integer', 'Real'],\n",
      "    'has_missing_values': 'yes',\n",
      "    'index_col': None,\n",
      "    'intro_paper': {   'DOI': None,\n",
      "                       'ID': 231,\n",
      "                       'URL': 'https://www.semanticscholar.org/paper/a7d714f8f87bfc41351eb5ae1e5472f0ebbe0574',\n",
      "                       'acl': None,\n",
      "                       'arxiv': None,\n",
      "                       'authors': 'R. Detrano, A. Jánosi, W. Steinbrunn, M. '\n",
      "                                  'Pfisterer, J. Schmid, S. Sandhu, K. Guppy, '\n",
      "                                  'S. Lee, V. Froelicher',\n",
      "                       'corpus': None,\n",
      "                       'journal': None,\n",
      "                       'mag': None,\n",
      "                       'pmcid': None,\n",
      "                       'pmid': '2756873',\n",
      "                       'sha': None,\n",
      "                       'title': 'International application of a new '\n",
      "                                'probability algorithm for the diagnosis of '\n",
      "                                'coronary artery disease.',\n",
      "                       'type': 'NATIVE',\n",
      "                       'venue': 'American Journal of Cardiology',\n",
      "                       'year': 1989},\n",
      "    'last_updated': 'Fri Nov 03 2023',\n",
      "    'missing_values_symbol': 'NaN',\n",
      "    'name': 'Heart Disease',\n",
      "    'num_features': 13,\n",
      "    'num_instances': 303,\n",
      "    'repository_url': 'https://archive.ics.uci.edu/dataset/45/heart+disease',\n",
      "    'target_col': ['num'],\n",
      "    'tasks': ['Classification'],\n",
      "    'uci_id': 45,\n",
      "    'year_of_dataset_creation': 1989}\n",
      "{'uci_id': 45, 'name': 'Heart Disease', 'repository_url': 'https://archive.ics.uci.edu/dataset/45/heart+disease', 'data_url': 'https://archive.ics.uci.edu/static/public/45/data.csv', 'abstract': '4 databases: Cleveland, Hungary, Switzerland, and the VA Long Beach', 'area': 'Health and Medicine', 'tasks': ['Classification'], 'characteristics': ['Multivariate'], 'num_instances': 303, 'num_features': 13, 'feature_types': ['Categorical', 'Integer', 'Real'], 'demographics': ['Age', 'Sex'], 'target_col': ['num'], 'index_col': None, 'has_missing_values': 'yes', 'missing_values_symbol': 'NaN', 'year_of_dataset_creation': 1989, 'last_updated': 'Fri Nov 03 2023', 'dataset_doi': '10.24432/C52P4X', 'creators': ['Andras Janosi', 'William Steinbrunn', 'Matthias Pfisterer', 'Robert Detrano'], 'intro_paper': {'ID': 231, 'type': 'NATIVE', 'title': 'International application of a new probability algorithm for the diagnosis of coronary artery disease.', 'authors': 'R. Detrano, A. Jánosi, W. Steinbrunn, M. Pfisterer, J. Schmid, S. Sandhu, K. Guppy, S. Lee, V. Froelicher', 'venue': 'American Journal of Cardiology', 'year': 1989, 'journal': None, 'DOI': None, 'URL': 'https://www.semanticscholar.org/paper/a7d714f8f87bfc41351eb5ae1e5472f0ebbe0574', 'sha': None, 'corpus': None, 'arxiv': None, 'mag': None, 'acl': None, 'pmid': '2756873', 'pmcid': None}, 'additional_info': {'summary': 'This database contains 76 attributes, but all published experiments refer to using a subset of 14 of them.  In particular, the Cleveland database is the only one that has been used by ML researchers to date.  The \"goal\" field refers to the presence of heart disease in the patient.  It is integer valued from 0 (no presence) to 4. Experiments with the Cleveland database have concentrated on simply attempting to distinguish presence (values 1,2,3,4) from absence (value 0).  \\n   \\nThe names and social security numbers of the patients were recently removed from the database, replaced with dummy values.\\n\\nOne file has been \"processed\", that one containing the Cleveland database.  All four unprocessed files also exist in this directory.\\n\\nTo see Test Costs (donated by Peter Turney), please see the folder \"Costs\" ', 'purpose': None, 'funded_by': None, 'instances_represent': None, 'recommended_data_splits': None, 'sensitive_data': None, 'preprocessing_description': None, 'variable_info': 'Only 14 attributes used:\\r\\n      1. #3  (age)       \\r\\n      2. #4  (sex)       \\r\\n      3. #9  (cp)        \\r\\n      4. #10 (trestbps)  \\r\\n      5. #12 (chol)      \\r\\n      6. #16 (fbs)       \\r\\n      7. #19 (restecg)   \\r\\n      8. #32 (thalach)   \\r\\n      9. #38 (exang)     \\r\\n      10. #40 (oldpeak)   \\r\\n      11. #41 (slope)     \\r\\n      12. #44 (ca)        \\r\\n      13. #51 (thal)      \\r\\n      14. #58 (num)       (the predicted attribute)\\r\\n\\r\\nComplete attribute documentation:\\r\\n      1 id: patient identification number\\r\\n      2 ccf: social security number (I replaced this with a dummy value of 0)\\r\\n      3 age: age in years\\r\\n      4 sex: sex (1 = male; 0 = female)\\r\\n      5 painloc: chest pain location (1 = substernal; 0 = otherwise)\\r\\n      6 painexer (1 = provoked by exertion; 0 = otherwise)\\r\\n      7 relrest (1 = relieved after rest; 0 = otherwise)\\r\\n      8 pncaden (sum of 5, 6, and 7)\\r\\n      9 cp: chest pain type\\r\\n        -- Value 1: typical angina\\r\\n        -- Value 2: atypical angina\\r\\n        -- Value 3: non-anginal pain\\r\\n        -- Value 4: asymptomatic\\r\\n     10 trestbps: resting blood pressure (in mm Hg on admission to the hospital)\\r\\n     11 htn\\r\\n     12 chol: serum cholestoral in mg/dl\\r\\n     13 smoke: I believe this is 1 = yes; 0 = no (is or is not a smoker)\\r\\n     14 cigs (cigarettes per day)\\r\\n     15 years (number of years as a smoker)\\r\\n     16 fbs: (fasting blood sugar > 120 mg/dl)  (1 = true; 0 = false)\\r\\n     17 dm (1 = history of diabetes; 0 = no such history)\\r\\n     18 famhist: family history of coronary artery disease (1 = yes; 0 = no)\\r\\n     19 restecg: resting electrocardiographic results\\r\\n        -- Value 0: normal\\r\\n        -- Value 1: having ST-T wave abnormality (T wave inversions and/or ST elevation or depression of > 0.05 mV)\\r\\n        -- Value 2: showing probable or definite left ventricular hypertrophy by Estes\\' criteria\\r\\n     20 ekgmo (month of exercise ECG reading)\\r\\n     21 ekgday(day of exercise ECG reading)\\r\\n     22 ekgyr (year of exercise ECG reading)\\r\\n     23 dig (digitalis used furing exercise ECG: 1 = yes; 0 = no)\\r\\n     24 prop (Beta blocker used during exercise ECG: 1 = yes; 0 = no)\\r\\n     25 nitr (nitrates used during exercise ECG: 1 = yes; 0 = no)\\r\\n     26 pro (calcium channel blocker used during exercise ECG: 1 = yes; 0 = no)\\r\\n     27 diuretic (diuretic used used during exercise ECG: 1 = yes; 0 = no)\\r\\n     28 proto: exercise protocol\\r\\n          1 = Bruce     \\r\\n          2 = Kottus\\r\\n          3 = McHenry\\r\\n          4 = fast Balke\\r\\n          5 = Balke\\r\\n          6 = Noughton \\r\\n          7 = bike 150 kpa min/min  (Not sure if \"kpa min/min\" is what was written!)\\r\\n          8 = bike 125 kpa min/min  \\r\\n          9 = bike 100 kpa min/min\\r\\n         10 = bike 75 kpa min/min\\r\\n         11 = bike 50 kpa min/min\\r\\n         12 = arm ergometer\\r\\n     29 thaldur: duration of exercise test in minutes\\r\\n     30 thaltime: time when ST measure depression was noted\\r\\n     31 met: mets achieved\\r\\n     32 thalach: maximum heart rate achieved\\r\\n     33 thalrest: resting heart rate\\r\\n     34 tpeakbps: peak exercise blood pressure (first of 2 parts)\\r\\n     35 tpeakbpd: peak exercise blood pressure (second of 2 parts)\\r\\n     36 dummy\\r\\n     37 trestbpd: resting blood pressure\\r\\n     38 exang: exercise induced angina (1 = yes; 0 = no)\\r\\n     39 xhypo: (1 = yes; 0 = no)\\r\\n     40 oldpeak = ST depression induced by exercise relative to rest\\r\\n     41 slope: the slope of the peak exercise ST segment\\r\\n        -- Value 1: upsloping\\r\\n        -- Value 2: flat\\r\\n        -- Value 3: downsloping\\r\\n     42 rldv5: height at rest\\r\\n     43 rldv5e: height at peak exercise\\r\\n     44 ca: number of major vessels (0-3) colored by flourosopy\\r\\n     45 restckm: irrelevant\\r\\n     46 exerckm: irrelevant\\r\\n     47 restef: rest raidonuclid (sp?) ejection fraction\\r\\n     48 restwm: rest wall (sp?) motion abnormality\\r\\n        0 = none\\r\\n        1 = mild or moderate\\r\\n        2 = moderate or severe\\r\\n        3 = akinesis or dyskmem (sp?)\\r\\n     49 exeref: exercise radinalid (sp?) ejection fraction\\r\\n     50 exerwm: exercise wall (sp?) motion \\r\\n     51 thal: 3 = normal; 6 = fixed defect; 7 = reversable defect\\r\\n     52 thalsev: not used\\r\\n     53 thalpul: not used\\r\\n     54 earlobe: not used\\r\\n     55 cmo: month of cardiac cath (sp?)  (perhaps \"call\")\\r\\n     56 cday: day of cardiac cath (sp?)\\r\\n     57 cyr: year of cardiac cath (sp?)\\r\\n     58 num: diagnosis of heart disease (angiographic disease status)\\r\\n        -- Value 0: < 50% diameter narrowing\\r\\n        -- Value 1: > 50% diameter narrowing\\r\\n        (in any major vessel: attributes 59 through 68 are vessels)\\r\\n     59 lmt\\r\\n     60 ladprox\\r\\n     61 laddist\\r\\n     62 diag\\r\\n     63 cxmain\\r\\n     64 ramus\\r\\n     65 om1\\r\\n     66 om2\\r\\n     67 rcaprox\\r\\n     68 rcadist\\r\\n     69 lvx1: not used\\r\\n     70 lvx2: not used\\r\\n     71 lvx3: not used\\r\\n     72 lvx4: not used\\r\\n     73 lvf: not used\\r\\n     74 cathef: not used\\r\\n     75 junk: not used\\r\\n     76 name: last name of patient  (I replaced this with the dummy string \"name\")', 'citation': None}}\n",
      "Heart Disease variables\n",
      "        name     role         type demographic  \\\n",
      "0        age  Feature      Integer         Age   \n",
      "1        sex  Feature  Categorical         Sex   \n",
      "2         cp  Feature  Categorical        None   \n",
      "3   trestbps  Feature      Integer        None   \n",
      "4       chol  Feature      Integer        None   \n",
      "5        fbs  Feature  Categorical        None   \n",
      "6    restecg  Feature  Categorical        None   \n",
      "7    thalach  Feature      Integer        None   \n",
      "8      exang  Feature  Categorical        None   \n",
      "9    oldpeak  Feature      Integer        None   \n",
      "10     slope  Feature  Categorical        None   \n",
      "11        ca  Feature      Integer        None   \n",
      "12      thal  Feature  Categorical        None   \n",
      "13       num   Target      Integer        None   \n",
      "\n",
      "                                          description  units missing_values  \n",
      "0                                                None  years             no  \n",
      "1                                                None   None             no  \n",
      "2                                                None   None             no  \n",
      "3   resting blood pressure (on admission to the ho...  mm Hg             no  \n",
      "4                                   serum cholestoral  mg/dl             no  \n",
      "5                     fasting blood sugar > 120 mg/dl   None             no  \n",
      "6                                                None   None             no  \n",
      "7                         maximum heart rate achieved   None             no  \n",
      "8                             exercise induced angina   None             no  \n",
      "9   ST depression induced by exercise relative to ...   None             no  \n",
      "10                                               None   None             no  \n",
      "11  number of major vessels (0-3) colored by flour...   None            yes  \n",
      "12                                               None   None            yes  \n",
      "13                         diagnosis of heart disease   None             no  \n"
     ]
    }
   ],
   "source": [
    "# fetch dataset \n",
    "heart_disease = fetch_ucirepo(id=45) \n",
    "  \n",
    "# data (as pandas dataframes) \n",
    "X = heart_disease.data.features \n",
    "y = heart_disease.data.targets \n",
    "  \n",
    "# metadata \n",
    "pp = pprint.PrettyPrinter(indent=4)\n",
    "print(\"Heart Disease metadata\")\n",
    "pp.pprint(heart_disease.metadata)\n",
    "print(heart_disease.metadata) \n",
    "  \n",
    "# variable information \n",
    "print(\"Heart Disease variables\")\n",
    "print(heart_disease.variables) "
   ]
  },
  {
   "cell_type": "markdown",
   "metadata": {},
   "source": [
    "From the metadata, we see that target values (stored in y) of `0` indicate an absence of heart disease and target values of `1, 2, 3, 4` indicate the presence of it.\n",
    "\n",
    "Our data is pre-processed, so it should not have any missing values."
   ]
  },
  {
   "cell_type": "code",
   "execution_count": 3,
   "metadata": {},
   "outputs": [
    {
     "data": {
      "text/html": [
       "<div>\n",
       "<style scoped>\n",
       "    .dataframe tbody tr th:only-of-type {\n",
       "        vertical-align: middle;\n",
       "    }\n",
       "\n",
       "    .dataframe tbody tr th {\n",
       "        vertical-align: top;\n",
       "    }\n",
       "\n",
       "    .dataframe thead th {\n",
       "        text-align: right;\n",
       "    }\n",
       "</style>\n",
       "<table border=\"1\" class=\"dataframe\">\n",
       "  <thead>\n",
       "    <tr style=\"text-align: right;\">\n",
       "      <th></th>\n",
       "      <th>age</th>\n",
       "      <th>sex</th>\n",
       "      <th>cp</th>\n",
       "      <th>trestbps</th>\n",
       "      <th>chol</th>\n",
       "      <th>fbs</th>\n",
       "      <th>restecg</th>\n",
       "      <th>thalach</th>\n",
       "      <th>exang</th>\n",
       "      <th>oldpeak</th>\n",
       "      <th>slope</th>\n",
       "      <th>ca</th>\n",
       "      <th>thal</th>\n",
       "    </tr>\n",
       "  </thead>\n",
       "  <tbody>\n",
       "    <tr>\n",
       "      <th>0</th>\n",
       "      <td>63</td>\n",
       "      <td>1</td>\n",
       "      <td>1</td>\n",
       "      <td>145</td>\n",
       "      <td>233</td>\n",
       "      <td>1</td>\n",
       "      <td>2</td>\n",
       "      <td>150</td>\n",
       "      <td>0</td>\n",
       "      <td>2.3</td>\n",
       "      <td>3</td>\n",
       "      <td>0.0</td>\n",
       "      <td>6.0</td>\n",
       "    </tr>\n",
       "    <tr>\n",
       "      <th>1</th>\n",
       "      <td>67</td>\n",
       "      <td>1</td>\n",
       "      <td>4</td>\n",
       "      <td>160</td>\n",
       "      <td>286</td>\n",
       "      <td>0</td>\n",
       "      <td>2</td>\n",
       "      <td>108</td>\n",
       "      <td>1</td>\n",
       "      <td>1.5</td>\n",
       "      <td>2</td>\n",
       "      <td>3.0</td>\n",
       "      <td>3.0</td>\n",
       "    </tr>\n",
       "    <tr>\n",
       "      <th>2</th>\n",
       "      <td>67</td>\n",
       "      <td>1</td>\n",
       "      <td>4</td>\n",
       "      <td>120</td>\n",
       "      <td>229</td>\n",
       "      <td>0</td>\n",
       "      <td>2</td>\n",
       "      <td>129</td>\n",
       "      <td>1</td>\n",
       "      <td>2.6</td>\n",
       "      <td>2</td>\n",
       "      <td>2.0</td>\n",
       "      <td>7.0</td>\n",
       "    </tr>\n",
       "    <tr>\n",
       "      <th>3</th>\n",
       "      <td>37</td>\n",
       "      <td>1</td>\n",
       "      <td>3</td>\n",
       "      <td>130</td>\n",
       "      <td>250</td>\n",
       "      <td>0</td>\n",
       "      <td>0</td>\n",
       "      <td>187</td>\n",
       "      <td>0</td>\n",
       "      <td>3.5</td>\n",
       "      <td>3</td>\n",
       "      <td>0.0</td>\n",
       "      <td>3.0</td>\n",
       "    </tr>\n",
       "    <tr>\n",
       "      <th>4</th>\n",
       "      <td>41</td>\n",
       "      <td>0</td>\n",
       "      <td>2</td>\n",
       "      <td>130</td>\n",
       "      <td>204</td>\n",
       "      <td>0</td>\n",
       "      <td>2</td>\n",
       "      <td>172</td>\n",
       "      <td>0</td>\n",
       "      <td>1.4</td>\n",
       "      <td>1</td>\n",
       "      <td>0.0</td>\n",
       "      <td>3.0</td>\n",
       "    </tr>\n",
       "  </tbody>\n",
       "</table>\n",
       "</div>"
      ],
      "text/plain": [
       "   age  sex  cp  trestbps  chol  fbs  restecg  thalach  exang  oldpeak  slope  \\\n",
       "0   63    1   1       145   233    1        2      150      0      2.3      3   \n",
       "1   67    1   4       160   286    0        2      108      1      1.5      2   \n",
       "2   67    1   4       120   229    0        2      129      1      2.6      2   \n",
       "3   37    1   3       130   250    0        0      187      0      3.5      3   \n",
       "4   41    0   2       130   204    0        2      172      0      1.4      1   \n",
       "\n",
       "    ca  thal  \n",
       "0  0.0   6.0  \n",
       "1  3.0   3.0  \n",
       "2  2.0   7.0  \n",
       "3  0.0   3.0  \n",
       "4  0.0   3.0  "
      ]
     },
     "execution_count": 3,
     "metadata": {},
     "output_type": "execute_result"
    }
   ],
   "source": [
    "# what features do we have?\n",
    "X.head()"
   ]
  },
  {
   "cell_type": "code",
   "execution_count": 4,
   "metadata": {},
   "outputs": [
    {
     "data": {
      "text/html": [
       "<div>\n",
       "<style scoped>\n",
       "    .dataframe tbody tr th:only-of-type {\n",
       "        vertical-align: middle;\n",
       "    }\n",
       "\n",
       "    .dataframe tbody tr th {\n",
       "        vertical-align: top;\n",
       "    }\n",
       "\n",
       "    .dataframe thead th {\n",
       "        text-align: right;\n",
       "    }\n",
       "</style>\n",
       "<table border=\"1\" class=\"dataframe\">\n",
       "  <thead>\n",
       "    <tr style=\"text-align: right;\">\n",
       "      <th></th>\n",
       "      <th>num</th>\n",
       "    </tr>\n",
       "  </thead>\n",
       "  <tbody>\n",
       "    <tr>\n",
       "      <th>0</th>\n",
       "      <td>0</td>\n",
       "    </tr>\n",
       "    <tr>\n",
       "      <th>1</th>\n",
       "      <td>2</td>\n",
       "    </tr>\n",
       "    <tr>\n",
       "      <th>2</th>\n",
       "      <td>1</td>\n",
       "    </tr>\n",
       "    <tr>\n",
       "      <th>3</th>\n",
       "      <td>0</td>\n",
       "    </tr>\n",
       "    <tr>\n",
       "      <th>4</th>\n",
       "      <td>0</td>\n",
       "    </tr>\n",
       "  </tbody>\n",
       "</table>\n",
       "</div>"
      ],
      "text/plain": [
       "   num\n",
       "0    0\n",
       "1    2\n",
       "2    1\n",
       "3    0\n",
       "4    0"
      ]
     },
     "execution_count": 4,
     "metadata": {},
     "output_type": "execute_result"
    }
   ],
   "source": [
    "# what do the targets look like?\n",
    "y.head()"
   ]
  },
  {
   "cell_type": "code",
   "execution_count": 5,
   "metadata": {},
   "outputs": [
    {
     "name": "stdout",
     "output_type": "stream",
     "text": [
      "(303, 13)\n",
      "(303, 1)\n"
     ]
    }
   ],
   "source": [
    "# we have 303 patient records\n",
    "print(X.shape)\n",
    "print(y.shape)"
   ]
  },
  {
   "cell_type": "code",
   "execution_count": 6,
   "metadata": {},
   "outputs": [
    {
     "name": "stdout",
     "output_type": "stream",
     "text": [
      "<class 'pandas.core.frame.DataFrame'>\n",
      "RangeIndex: 303 entries, 0 to 302\n",
      "Data columns (total 13 columns):\n",
      " #   Column    Non-Null Count  Dtype  \n",
      "---  ------    --------------  -----  \n",
      " 0   age       303 non-null    int64  \n",
      " 1   sex       303 non-null    int64  \n",
      " 2   cp        303 non-null    int64  \n",
      " 3   trestbps  303 non-null    int64  \n",
      " 4   chol      303 non-null    int64  \n",
      " 5   fbs       303 non-null    int64  \n",
      " 6   restecg   303 non-null    int64  \n",
      " 7   thalach   303 non-null    int64  \n",
      " 8   exang     303 non-null    int64  \n",
      " 9   oldpeak   303 non-null    float64\n",
      " 10  slope     303 non-null    int64  \n",
      " 11  ca        299 non-null    float64\n",
      " 12  thal      301 non-null    float64\n",
      "dtypes: float64(3), int64(10)\n",
      "memory usage: 30.9 KB\n"
     ]
    }
   ],
   "source": [
    "# it looks like we have a few null entries in ca and thal\n",
    "X.info()"
   ]
  },
  {
   "cell_type": "code",
   "execution_count": 7,
   "metadata": {},
   "outputs": [
    {
     "data": {
      "text/html": [
       "<div>\n",
       "<style scoped>\n",
       "    .dataframe tbody tr th:only-of-type {\n",
       "        vertical-align: middle;\n",
       "    }\n",
       "\n",
       "    .dataframe tbody tr th {\n",
       "        vertical-align: top;\n",
       "    }\n",
       "\n",
       "    .dataframe thead th {\n",
       "        text-align: right;\n",
       "    }\n",
       "</style>\n",
       "<table border=\"1\" class=\"dataframe\">\n",
       "  <thead>\n",
       "    <tr style=\"text-align: right;\">\n",
       "      <th></th>\n",
       "      <th>age</th>\n",
       "      <th>sex</th>\n",
       "      <th>cp</th>\n",
       "      <th>trestbps</th>\n",
       "      <th>chol</th>\n",
       "      <th>fbs</th>\n",
       "      <th>restecg</th>\n",
       "      <th>thalach</th>\n",
       "      <th>exang</th>\n",
       "      <th>oldpeak</th>\n",
       "      <th>slope</th>\n",
       "      <th>ca</th>\n",
       "      <th>thal</th>\n",
       "    </tr>\n",
       "  </thead>\n",
       "  <tbody>\n",
       "    <tr>\n",
       "      <th>87</th>\n",
       "      <td>53</td>\n",
       "      <td>0</td>\n",
       "      <td>3</td>\n",
       "      <td>128</td>\n",
       "      <td>216</td>\n",
       "      <td>0</td>\n",
       "      <td>2</td>\n",
       "      <td>115</td>\n",
       "      <td>0</td>\n",
       "      <td>0.0</td>\n",
       "      <td>1</td>\n",
       "      <td>0.0</td>\n",
       "      <td>NaN</td>\n",
       "    </tr>\n",
       "    <tr>\n",
       "      <th>166</th>\n",
       "      <td>52</td>\n",
       "      <td>1</td>\n",
       "      <td>3</td>\n",
       "      <td>138</td>\n",
       "      <td>223</td>\n",
       "      <td>0</td>\n",
       "      <td>0</td>\n",
       "      <td>169</td>\n",
       "      <td>0</td>\n",
       "      <td>0.0</td>\n",
       "      <td>1</td>\n",
       "      <td>NaN</td>\n",
       "      <td>3.0</td>\n",
       "    </tr>\n",
       "    <tr>\n",
       "      <th>192</th>\n",
       "      <td>43</td>\n",
       "      <td>1</td>\n",
       "      <td>4</td>\n",
       "      <td>132</td>\n",
       "      <td>247</td>\n",
       "      <td>1</td>\n",
       "      <td>2</td>\n",
       "      <td>143</td>\n",
       "      <td>1</td>\n",
       "      <td>0.1</td>\n",
       "      <td>2</td>\n",
       "      <td>NaN</td>\n",
       "      <td>7.0</td>\n",
       "    </tr>\n",
       "    <tr>\n",
       "      <th>266</th>\n",
       "      <td>52</td>\n",
       "      <td>1</td>\n",
       "      <td>4</td>\n",
       "      <td>128</td>\n",
       "      <td>204</td>\n",
       "      <td>1</td>\n",
       "      <td>0</td>\n",
       "      <td>156</td>\n",
       "      <td>1</td>\n",
       "      <td>1.0</td>\n",
       "      <td>2</td>\n",
       "      <td>0.0</td>\n",
       "      <td>NaN</td>\n",
       "    </tr>\n",
       "    <tr>\n",
       "      <th>287</th>\n",
       "      <td>58</td>\n",
       "      <td>1</td>\n",
       "      <td>2</td>\n",
       "      <td>125</td>\n",
       "      <td>220</td>\n",
       "      <td>0</td>\n",
       "      <td>0</td>\n",
       "      <td>144</td>\n",
       "      <td>0</td>\n",
       "      <td>0.4</td>\n",
       "      <td>2</td>\n",
       "      <td>NaN</td>\n",
       "      <td>7.0</td>\n",
       "    </tr>\n",
       "    <tr>\n",
       "      <th>302</th>\n",
       "      <td>38</td>\n",
       "      <td>1</td>\n",
       "      <td>3</td>\n",
       "      <td>138</td>\n",
       "      <td>175</td>\n",
       "      <td>0</td>\n",
       "      <td>0</td>\n",
       "      <td>173</td>\n",
       "      <td>0</td>\n",
       "      <td>0.0</td>\n",
       "      <td>1</td>\n",
       "      <td>NaN</td>\n",
       "      <td>3.0</td>\n",
       "    </tr>\n",
       "  </tbody>\n",
       "</table>\n",
       "</div>"
      ],
      "text/plain": [
       "     age  sex  cp  trestbps  chol  fbs  restecg  thalach  exang  oldpeak  \\\n",
       "87    53    0   3       128   216    0        2      115      0      0.0   \n",
       "166   52    1   3       138   223    0        0      169      0      0.0   \n",
       "192   43    1   4       132   247    1        2      143      1      0.1   \n",
       "266   52    1   4       128   204    1        0      156      1      1.0   \n",
       "287   58    1   2       125   220    0        0      144      0      0.4   \n",
       "302   38    1   3       138   175    0        0      173      0      0.0   \n",
       "\n",
       "     slope   ca  thal  \n",
       "87       1  0.0   NaN  \n",
       "166      1  NaN   3.0  \n",
       "192      2  NaN   7.0  \n",
       "266      2  0.0   NaN  \n",
       "287      2  NaN   7.0  \n",
       "302      1  NaN   3.0  "
      ]
     },
     "execution_count": 7,
     "metadata": {},
     "output_type": "execute_result"
    }
   ],
   "source": [
    "# see null rows\n",
    "null_rows = X[X.isnull().any(axis=1)]\n",
    "# there are only 6 rows with null valeus\n",
    "null_rows.head(10)"
   ]
  },
  {
   "cell_type": "markdown",
   "metadata": {},
   "source": [
    "In this dataset, thal: 3 = normal; 6 = fixed defect; 7 = reversable defect.   \n",
    "However, we want thal: 1 = normal; 2 = fixed defect; 3 = reversable defect."
   ]
  },
  {
   "cell_type": "code",
   "execution_count": 8,
   "metadata": {},
   "outputs": [],
   "source": [
    "X.loc[:, 'thal'] = X['thal'].replace({3:1, 6:2, 7:3})"
   ]
  },
  {
   "cell_type": "code",
   "execution_count": 9,
   "metadata": {},
   "outputs": [],
   "source": [
    "y.loc[:, 'num'] = y['num'].replace({0:0, 1:1, 2:1, 3:1, 4:1})"
   ]
  },
  {
   "cell_type": "code",
   "execution_count": 10,
   "metadata": {},
   "outputs": [
    {
     "name": "stdout",
     "output_type": "stream",
     "text": [
      "ca_mean: 1\n",
      "thal_mean: 2\n"
     ]
    }
   ],
   "source": [
    "ca_mean = int(math.ceil(X['ca'].mean()))\n",
    "print(f\"ca_mean: {ca_mean}\")\n",
    "X.loc[:, 'ca'] = X['ca'].fillna(ca_mean)\n",
    "\n",
    "thal_mean = int(math.ceil(X['thal'].mean()))\n",
    "print(f\"thal_mean: {thal_mean}\")\n",
    "X.loc[:, 'thal'] = X['thal'].fillna(thal_mean)"
   ]
  },
  {
   "cell_type": "code",
   "execution_count": 11,
   "metadata": {},
   "outputs": [
    {
     "name": "stdout",
     "output_type": "stream",
     "text": [
      "age         True\n",
      "sex         True\n",
      "cp          True\n",
      "trestbps    True\n",
      "chol        True\n",
      "fbs         True\n",
      "restecg     True\n",
      "thalach     True\n",
      "exang       True\n",
      "oldpeak     True\n",
      "slope       True\n",
      "ca          True\n",
      "thal        True\n",
      "dtype: bool\n"
     ]
    }
   ],
   "source": [
    "# check that there are no null values in the dataset anymore\n",
    "print(X.isnull().any() == False)"
   ]
  },
  {
   "cell_type": "code",
   "execution_count": 12,
   "metadata": {},
   "outputs": [],
   "source": [
    "# export cleaned data to CSV form\n",
    "X.to_csv(\"cleveland.csv\") \n",
    "X['target'] = y\n",
    "X.to_csv(\"cleveland_targets.csv\", index=False)"
   ]
  },
  {
   "cell_type": "code",
   "execution_count": 13,
   "metadata": {},
   "outputs": [
    {
     "data": {
      "text/html": [
       "<div>\n",
       "<style scoped>\n",
       "    .dataframe tbody tr th:only-of-type {\n",
       "        vertical-align: middle;\n",
       "    }\n",
       "\n",
       "    .dataframe tbody tr th {\n",
       "        vertical-align: top;\n",
       "    }\n",
       "\n",
       "    .dataframe thead th {\n",
       "        text-align: right;\n",
       "    }\n",
       "</style>\n",
       "<table border=\"1\" class=\"dataframe\">\n",
       "  <thead>\n",
       "    <tr style=\"text-align: right;\">\n",
       "      <th></th>\n",
       "      <th>age</th>\n",
       "      <th>sex</th>\n",
       "      <th>cp</th>\n",
       "      <th>trestbps</th>\n",
       "      <th>chol</th>\n",
       "      <th>fbs</th>\n",
       "      <th>restecg</th>\n",
       "      <th>thalach</th>\n",
       "      <th>exang</th>\n",
       "      <th>oldpeak</th>\n",
       "      <th>slope</th>\n",
       "      <th>ca</th>\n",
       "      <th>thal</th>\n",
       "      <th>target</th>\n",
       "    </tr>\n",
       "  </thead>\n",
       "  <tbody>\n",
       "    <tr>\n",
       "      <th>0</th>\n",
       "      <td>63</td>\n",
       "      <td>1</td>\n",
       "      <td>1</td>\n",
       "      <td>145</td>\n",
       "      <td>233</td>\n",
       "      <td>1</td>\n",
       "      <td>2</td>\n",
       "      <td>150</td>\n",
       "      <td>0</td>\n",
       "      <td>2.3</td>\n",
       "      <td>3</td>\n",
       "      <td>0.0</td>\n",
       "      <td>2.0</td>\n",
       "      <td>0</td>\n",
       "    </tr>\n",
       "    <tr>\n",
       "      <th>1</th>\n",
       "      <td>67</td>\n",
       "      <td>1</td>\n",
       "      <td>4</td>\n",
       "      <td>160</td>\n",
       "      <td>286</td>\n",
       "      <td>0</td>\n",
       "      <td>2</td>\n",
       "      <td>108</td>\n",
       "      <td>1</td>\n",
       "      <td>1.5</td>\n",
       "      <td>2</td>\n",
       "      <td>3.0</td>\n",
       "      <td>1.0</td>\n",
       "      <td>1</td>\n",
       "    </tr>\n",
       "    <tr>\n",
       "      <th>2</th>\n",
       "      <td>67</td>\n",
       "      <td>1</td>\n",
       "      <td>4</td>\n",
       "      <td>120</td>\n",
       "      <td>229</td>\n",
       "      <td>0</td>\n",
       "      <td>2</td>\n",
       "      <td>129</td>\n",
       "      <td>1</td>\n",
       "      <td>2.6</td>\n",
       "      <td>2</td>\n",
       "      <td>2.0</td>\n",
       "      <td>3.0</td>\n",
       "      <td>1</td>\n",
       "    </tr>\n",
       "    <tr>\n",
       "      <th>3</th>\n",
       "      <td>37</td>\n",
       "      <td>1</td>\n",
       "      <td>3</td>\n",
       "      <td>130</td>\n",
       "      <td>250</td>\n",
       "      <td>0</td>\n",
       "      <td>0</td>\n",
       "      <td>187</td>\n",
       "      <td>0</td>\n",
       "      <td>3.5</td>\n",
       "      <td>3</td>\n",
       "      <td>0.0</td>\n",
       "      <td>1.0</td>\n",
       "      <td>0</td>\n",
       "    </tr>\n",
       "    <tr>\n",
       "      <th>4</th>\n",
       "      <td>41</td>\n",
       "      <td>0</td>\n",
       "      <td>2</td>\n",
       "      <td>130</td>\n",
       "      <td>204</td>\n",
       "      <td>0</td>\n",
       "      <td>2</td>\n",
       "      <td>172</td>\n",
       "      <td>0</td>\n",
       "      <td>1.4</td>\n",
       "      <td>1</td>\n",
       "      <td>0.0</td>\n",
       "      <td>1.0</td>\n",
       "      <td>0</td>\n",
       "    </tr>\n",
       "    <tr>\n",
       "      <th>...</th>\n",
       "      <td>...</td>\n",
       "      <td>...</td>\n",
       "      <td>...</td>\n",
       "      <td>...</td>\n",
       "      <td>...</td>\n",
       "      <td>...</td>\n",
       "      <td>...</td>\n",
       "      <td>...</td>\n",
       "      <td>...</td>\n",
       "      <td>...</td>\n",
       "      <td>...</td>\n",
       "      <td>...</td>\n",
       "      <td>...</td>\n",
       "      <td>...</td>\n",
       "    </tr>\n",
       "    <tr>\n",
       "      <th>95</th>\n",
       "      <td>52</td>\n",
       "      <td>1</td>\n",
       "      <td>4</td>\n",
       "      <td>128</td>\n",
       "      <td>255</td>\n",
       "      <td>0</td>\n",
       "      <td>0</td>\n",
       "      <td>161</td>\n",
       "      <td>1</td>\n",
       "      <td>0.0</td>\n",
       "      <td>1</td>\n",
       "      <td>1.0</td>\n",
       "      <td>3.0</td>\n",
       "      <td>1</td>\n",
       "    </tr>\n",
       "    <tr>\n",
       "      <th>96</th>\n",
       "      <td>59</td>\n",
       "      <td>1</td>\n",
       "      <td>4</td>\n",
       "      <td>110</td>\n",
       "      <td>239</td>\n",
       "      <td>0</td>\n",
       "      <td>2</td>\n",
       "      <td>142</td>\n",
       "      <td>1</td>\n",
       "      <td>1.2</td>\n",
       "      <td>2</td>\n",
       "      <td>1.0</td>\n",
       "      <td>3.0</td>\n",
       "      <td>1</td>\n",
       "    </tr>\n",
       "    <tr>\n",
       "      <th>97</th>\n",
       "      <td>60</td>\n",
       "      <td>0</td>\n",
       "      <td>4</td>\n",
       "      <td>150</td>\n",
       "      <td>258</td>\n",
       "      <td>0</td>\n",
       "      <td>2</td>\n",
       "      <td>157</td>\n",
       "      <td>0</td>\n",
       "      <td>2.6</td>\n",
       "      <td>2</td>\n",
       "      <td>2.0</td>\n",
       "      <td>3.0</td>\n",
       "      <td>1</td>\n",
       "    </tr>\n",
       "    <tr>\n",
       "      <th>98</th>\n",
       "      <td>52</td>\n",
       "      <td>1</td>\n",
       "      <td>2</td>\n",
       "      <td>134</td>\n",
       "      <td>201</td>\n",
       "      <td>0</td>\n",
       "      <td>0</td>\n",
       "      <td>158</td>\n",
       "      <td>0</td>\n",
       "      <td>0.8</td>\n",
       "      <td>1</td>\n",
       "      <td>1.0</td>\n",
       "      <td>1.0</td>\n",
       "      <td>0</td>\n",
       "    </tr>\n",
       "    <tr>\n",
       "      <th>99</th>\n",
       "      <td>48</td>\n",
       "      <td>1</td>\n",
       "      <td>4</td>\n",
       "      <td>122</td>\n",
       "      <td>222</td>\n",
       "      <td>0</td>\n",
       "      <td>2</td>\n",
       "      <td>186</td>\n",
       "      <td>0</td>\n",
       "      <td>0.0</td>\n",
       "      <td>1</td>\n",
       "      <td>0.0</td>\n",
       "      <td>1.0</td>\n",
       "      <td>0</td>\n",
       "    </tr>\n",
       "  </tbody>\n",
       "</table>\n",
       "<p>100 rows × 14 columns</p>\n",
       "</div>"
      ],
      "text/plain": [
       "    age  sex  cp  trestbps  chol  fbs  restecg  thalach  exang  oldpeak  \\\n",
       "0    63    1   1       145   233    1        2      150      0      2.3   \n",
       "1    67    1   4       160   286    0        2      108      1      1.5   \n",
       "2    67    1   4       120   229    0        2      129      1      2.6   \n",
       "3    37    1   3       130   250    0        0      187      0      3.5   \n",
       "4    41    0   2       130   204    0        2      172      0      1.4   \n",
       "..  ...  ...  ..       ...   ...  ...      ...      ...    ...      ...   \n",
       "95   52    1   4       128   255    0        0      161      1      0.0   \n",
       "96   59    1   4       110   239    0        2      142      1      1.2   \n",
       "97   60    0   4       150   258    0        2      157      0      2.6   \n",
       "98   52    1   2       134   201    0        0      158      0      0.8   \n",
       "99   48    1   4       122   222    0        2      186      0      0.0   \n",
       "\n",
       "    slope   ca  thal  target  \n",
       "0       3  0.0   2.0       0  \n",
       "1       2  3.0   1.0       1  \n",
       "2       2  2.0   3.0       1  \n",
       "3       3  0.0   1.0       0  \n",
       "4       1  0.0   1.0       0  \n",
       "..    ...  ...   ...     ...  \n",
       "95      1  1.0   3.0       1  \n",
       "96      2  1.0   3.0       1  \n",
       "97      2  2.0   3.0       1  \n",
       "98      1  1.0   1.0       0  \n",
       "99      1  0.0   1.0       0  \n",
       "\n",
       "[100 rows x 14 columns]"
      ]
     },
     "execution_count": 13,
     "metadata": {},
     "output_type": "execute_result"
    }
   ],
   "source": [
    "# final X\n",
    "X.head(100)"
   ]
  },
  {
   "cell_type": "markdown",
   "metadata": {},
   "source": [
    "Now, we want to combine the Cleveland dataset with the Mendeley dataset."
   ]
  },
  {
   "cell_type": "code",
   "execution_count": 14,
   "metadata": {},
   "outputs": [
    {
     "data": {
      "text/html": [
       "<div>\n",
       "<style scoped>\n",
       "    .dataframe tbody tr th:only-of-type {\n",
       "        vertical-align: middle;\n",
       "    }\n",
       "\n",
       "    .dataframe tbody tr th {\n",
       "        vertical-align: top;\n",
       "    }\n",
       "\n",
       "    .dataframe thead th {\n",
       "        text-align: right;\n",
       "    }\n",
       "</style>\n",
       "<table border=\"1\" class=\"dataframe\">\n",
       "  <thead>\n",
       "    <tr style=\"text-align: right;\">\n",
       "      <th></th>\n",
       "      <th>patientid</th>\n",
       "      <th>age</th>\n",
       "      <th>gender</th>\n",
       "      <th>chestpain</th>\n",
       "      <th>restingBP</th>\n",
       "      <th>serumcholestrol</th>\n",
       "      <th>fastingbloodsugar</th>\n",
       "      <th>restingrelectro</th>\n",
       "      <th>maxheartrate</th>\n",
       "      <th>exerciseangia</th>\n",
       "      <th>oldpeak</th>\n",
       "      <th>slope</th>\n",
       "      <th>noofmajorvessels</th>\n",
       "      <th>target</th>\n",
       "    </tr>\n",
       "  </thead>\n",
       "  <tbody>\n",
       "    <tr>\n",
       "      <th>0</th>\n",
       "      <td>103368</td>\n",
       "      <td>53</td>\n",
       "      <td>1</td>\n",
       "      <td>2</td>\n",
       "      <td>171</td>\n",
       "      <td>0</td>\n",
       "      <td>0</td>\n",
       "      <td>1</td>\n",
       "      <td>147</td>\n",
       "      <td>0</td>\n",
       "      <td>5.3</td>\n",
       "      <td>3</td>\n",
       "      <td>3</td>\n",
       "      <td>1</td>\n",
       "    </tr>\n",
       "    <tr>\n",
       "      <th>1</th>\n",
       "      <td>119250</td>\n",
       "      <td>40</td>\n",
       "      <td>1</td>\n",
       "      <td>0</td>\n",
       "      <td>94</td>\n",
       "      <td>229</td>\n",
       "      <td>0</td>\n",
       "      <td>1</td>\n",
       "      <td>115</td>\n",
       "      <td>0</td>\n",
       "      <td>3.7</td>\n",
       "      <td>1</td>\n",
       "      <td>1</td>\n",
       "      <td>0</td>\n",
       "    </tr>\n",
       "    <tr>\n",
       "      <th>2</th>\n",
       "      <td>119372</td>\n",
       "      <td>49</td>\n",
       "      <td>1</td>\n",
       "      <td>2</td>\n",
       "      <td>133</td>\n",
       "      <td>142</td>\n",
       "      <td>0</td>\n",
       "      <td>0</td>\n",
       "      <td>202</td>\n",
       "      <td>1</td>\n",
       "      <td>5.0</td>\n",
       "      <td>1</td>\n",
       "      <td>0</td>\n",
       "      <td>0</td>\n",
       "    </tr>\n",
       "    <tr>\n",
       "      <th>3</th>\n",
       "      <td>132514</td>\n",
       "      <td>43</td>\n",
       "      <td>1</td>\n",
       "      <td>0</td>\n",
       "      <td>138</td>\n",
       "      <td>295</td>\n",
       "      <td>1</td>\n",
       "      <td>1</td>\n",
       "      <td>153</td>\n",
       "      <td>0</td>\n",
       "      <td>3.2</td>\n",
       "      <td>2</td>\n",
       "      <td>2</td>\n",
       "      <td>1</td>\n",
       "    </tr>\n",
       "    <tr>\n",
       "      <th>4</th>\n",
       "      <td>146211</td>\n",
       "      <td>31</td>\n",
       "      <td>1</td>\n",
       "      <td>1</td>\n",
       "      <td>199</td>\n",
       "      <td>0</td>\n",
       "      <td>0</td>\n",
       "      <td>2</td>\n",
       "      <td>136</td>\n",
       "      <td>0</td>\n",
       "      <td>5.3</td>\n",
       "      <td>3</td>\n",
       "      <td>2</td>\n",
       "      <td>1</td>\n",
       "    </tr>\n",
       "  </tbody>\n",
       "</table>\n",
       "</div>"
      ],
      "text/plain": [
       "   patientid  age  gender  chestpain  restingBP  serumcholestrol  \\\n",
       "0     103368   53       1          2        171                0   \n",
       "1     119250   40       1          0         94              229   \n",
       "2     119372   49       1          2        133              142   \n",
       "3     132514   43       1          0        138              295   \n",
       "4     146211   31       1          1        199                0   \n",
       "\n",
       "   fastingbloodsugar  restingrelectro  maxheartrate  exerciseangia  oldpeak  \\\n",
       "0                  0                1           147              0      5.3   \n",
       "1                  0                1           115              0      3.7   \n",
       "2                  0                0           202              1      5.0   \n",
       "3                  1                1           153              0      3.2   \n",
       "4                  0                2           136              0      5.3   \n",
       "\n",
       "   slope  noofmajorvessels  target  \n",
       "0      3                 3       1  \n",
       "1      1                 1       0  \n",
       "2      1                 0       0  \n",
       "3      2                 2       1  \n",
       "4      3                 2       1  "
      ]
     },
     "execution_count": 14,
     "metadata": {},
     "output_type": "execute_result"
    }
   ],
   "source": [
    "data_url = '../csvs/Cardiovascular_Disease_Dataset.csv'\n",
    "df = pd.read_csv(data_url)\n",
    "df.head()"
   ]
  },
  {
   "cell_type": "code",
   "execution_count": 15,
   "metadata": {},
   "outputs": [
    {
     "data": {
      "text/html": [
       "<div>\n",
       "<style scoped>\n",
       "    .dataframe tbody tr th:only-of-type {\n",
       "        vertical-align: middle;\n",
       "    }\n",
       "\n",
       "    .dataframe tbody tr th {\n",
       "        vertical-align: top;\n",
       "    }\n",
       "\n",
       "    .dataframe thead th {\n",
       "        text-align: right;\n",
       "    }\n",
       "</style>\n",
       "<table border=\"1\" class=\"dataframe\">\n",
       "  <thead>\n",
       "    <tr style=\"text-align: right;\">\n",
       "      <th></th>\n",
       "      <th>age</th>\n",
       "      <th>gender</th>\n",
       "      <th>chestpain</th>\n",
       "      <th>restingBP</th>\n",
       "      <th>serumcholestrol</th>\n",
       "      <th>fastingbloodsugar</th>\n",
       "      <th>restingrelectro</th>\n",
       "      <th>maxheartrate</th>\n",
       "      <th>exerciseangia</th>\n",
       "      <th>oldpeak</th>\n",
       "      <th>slope</th>\n",
       "      <th>noofmajorvessels</th>\n",
       "      <th>target</th>\n",
       "    </tr>\n",
       "  </thead>\n",
       "  <tbody>\n",
       "    <tr>\n",
       "      <th>0</th>\n",
       "      <td>63</td>\n",
       "      <td>1</td>\n",
       "      <td>1</td>\n",
       "      <td>145</td>\n",
       "      <td>233</td>\n",
       "      <td>1</td>\n",
       "      <td>2</td>\n",
       "      <td>150</td>\n",
       "      <td>0</td>\n",
       "      <td>2.3</td>\n",
       "      <td>3</td>\n",
       "      <td>0.0</td>\n",
       "      <td>0</td>\n",
       "    </tr>\n",
       "    <tr>\n",
       "      <th>1</th>\n",
       "      <td>67</td>\n",
       "      <td>1</td>\n",
       "      <td>4</td>\n",
       "      <td>160</td>\n",
       "      <td>286</td>\n",
       "      <td>0</td>\n",
       "      <td>2</td>\n",
       "      <td>108</td>\n",
       "      <td>1</td>\n",
       "      <td>1.5</td>\n",
       "      <td>2</td>\n",
       "      <td>3.0</td>\n",
       "      <td>1</td>\n",
       "    </tr>\n",
       "    <tr>\n",
       "      <th>2</th>\n",
       "      <td>67</td>\n",
       "      <td>1</td>\n",
       "      <td>4</td>\n",
       "      <td>120</td>\n",
       "      <td>229</td>\n",
       "      <td>0</td>\n",
       "      <td>2</td>\n",
       "      <td>129</td>\n",
       "      <td>1</td>\n",
       "      <td>2.6</td>\n",
       "      <td>2</td>\n",
       "      <td>2.0</td>\n",
       "      <td>1</td>\n",
       "    </tr>\n",
       "    <tr>\n",
       "      <th>3</th>\n",
       "      <td>37</td>\n",
       "      <td>1</td>\n",
       "      <td>3</td>\n",
       "      <td>130</td>\n",
       "      <td>250</td>\n",
       "      <td>0</td>\n",
       "      <td>0</td>\n",
       "      <td>187</td>\n",
       "      <td>0</td>\n",
       "      <td>3.5</td>\n",
       "      <td>3</td>\n",
       "      <td>0.0</td>\n",
       "      <td>0</td>\n",
       "    </tr>\n",
       "    <tr>\n",
       "      <th>4</th>\n",
       "      <td>41</td>\n",
       "      <td>0</td>\n",
       "      <td>2</td>\n",
       "      <td>130</td>\n",
       "      <td>204</td>\n",
       "      <td>0</td>\n",
       "      <td>2</td>\n",
       "      <td>172</td>\n",
       "      <td>0</td>\n",
       "      <td>1.4</td>\n",
       "      <td>1</td>\n",
       "      <td>0.0</td>\n",
       "      <td>0</td>\n",
       "    </tr>\n",
       "  </tbody>\n",
       "</table>\n",
       "</div>"
      ],
      "text/plain": [
       "   age  gender  chestpain  restingBP  serumcholestrol  fastingbloodsugar  \\\n",
       "0   63       1          1        145              233                  1   \n",
       "1   67       1          4        160              286                  0   \n",
       "2   67       1          4        120              229                  0   \n",
       "3   37       1          3        130              250                  0   \n",
       "4   41       0          2        130              204                  0   \n",
       "\n",
       "   restingrelectro  maxheartrate  exerciseangia  oldpeak  slope  \\\n",
       "0                2           150              0      2.3      3   \n",
       "1                2           108              1      1.5      2   \n",
       "2                2           129              1      2.6      2   \n",
       "3                0           187              0      3.5      3   \n",
       "4                2           172              0      1.4      1   \n",
       "\n",
       "   noofmajorvessels  target  \n",
       "0               0.0       0  \n",
       "1               3.0       1  \n",
       "2               2.0       1  \n",
       "3               0.0       0  \n",
       "4               0.0       0  "
      ]
     },
     "execution_count": 15,
     "metadata": {},
     "output_type": "execute_result"
    }
   ],
   "source": [
    "X = X.rename(columns={\"age\": \"age\", \"sex\": \"gender\", \"cp\":\"chestpain\", \"trestbps\": \"restingBP\", \n",
    "                    \"chol\":\"serumcholestrol\", \"fbs\":\"fastingbloodsugar\", \"restecg\":\"restingrelectro\", \n",
    "                    \"thalach\":\"maxheartrate\", \"exang\":\"exerciseangia\", \"oldpeak\":\"oldpeak\", \"slope\": \"slope\", \n",
    "                    \"ca\":\"noofmajorvessels\", \"thal\":\"thal\"})\n",
    "X = X.drop(['thal'], axis=1)\n",
    "df = df.drop(['patientid'], axis=1)\n",
    "X.head()"
   ]
  },
  {
   "cell_type": "code",
   "execution_count": 16,
   "metadata": {},
   "outputs": [
    {
     "name": "stdout",
     "output_type": "stream",
     "text": [
      "slope_mean: 2\n",
      "unique_values: [3 1 2]\n"
     ]
    },
    {
     "data": {
      "text/html": [
       "<div>\n",
       "<style scoped>\n",
       "    .dataframe tbody tr th:only-of-type {\n",
       "        vertical-align: middle;\n",
       "    }\n",
       "\n",
       "    .dataframe tbody tr th {\n",
       "        vertical-align: top;\n",
       "    }\n",
       "\n",
       "    .dataframe thead th {\n",
       "        text-align: right;\n",
       "    }\n",
       "</style>\n",
       "<table border=\"1\" class=\"dataframe\">\n",
       "  <thead>\n",
       "    <tr style=\"text-align: right;\">\n",
       "      <th></th>\n",
       "      <th>age</th>\n",
       "      <th>gender</th>\n",
       "      <th>chestpain</th>\n",
       "      <th>restingBP</th>\n",
       "      <th>serumcholestrol</th>\n",
       "      <th>fastingbloodsugar</th>\n",
       "      <th>restingrelectro</th>\n",
       "      <th>maxheartrate</th>\n",
       "      <th>exerciseangia</th>\n",
       "      <th>oldpeak</th>\n",
       "      <th>slope</th>\n",
       "      <th>noofmajorvessels</th>\n",
       "      <th>target</th>\n",
       "    </tr>\n",
       "  </thead>\n",
       "  <tbody>\n",
       "    <tr>\n",
       "      <th>0</th>\n",
       "      <td>53</td>\n",
       "      <td>1</td>\n",
       "      <td>2</td>\n",
       "      <td>171</td>\n",
       "      <td>0</td>\n",
       "      <td>0</td>\n",
       "      <td>1</td>\n",
       "      <td>147</td>\n",
       "      <td>0</td>\n",
       "      <td>5.3</td>\n",
       "      <td>3</td>\n",
       "      <td>3</td>\n",
       "      <td>1</td>\n",
       "    </tr>\n",
       "    <tr>\n",
       "      <th>1</th>\n",
       "      <td>40</td>\n",
       "      <td>1</td>\n",
       "      <td>0</td>\n",
       "      <td>94</td>\n",
       "      <td>229</td>\n",
       "      <td>0</td>\n",
       "      <td>1</td>\n",
       "      <td>115</td>\n",
       "      <td>0</td>\n",
       "      <td>3.7</td>\n",
       "      <td>1</td>\n",
       "      <td>1</td>\n",
       "      <td>0</td>\n",
       "    </tr>\n",
       "    <tr>\n",
       "      <th>2</th>\n",
       "      <td>49</td>\n",
       "      <td>1</td>\n",
       "      <td>2</td>\n",
       "      <td>133</td>\n",
       "      <td>142</td>\n",
       "      <td>0</td>\n",
       "      <td>0</td>\n",
       "      <td>202</td>\n",
       "      <td>1</td>\n",
       "      <td>5.0</td>\n",
       "      <td>1</td>\n",
       "      <td>0</td>\n",
       "      <td>0</td>\n",
       "    </tr>\n",
       "    <tr>\n",
       "      <th>3</th>\n",
       "      <td>43</td>\n",
       "      <td>1</td>\n",
       "      <td>0</td>\n",
       "      <td>138</td>\n",
       "      <td>295</td>\n",
       "      <td>1</td>\n",
       "      <td>1</td>\n",
       "      <td>153</td>\n",
       "      <td>0</td>\n",
       "      <td>3.2</td>\n",
       "      <td>2</td>\n",
       "      <td>2</td>\n",
       "      <td>1</td>\n",
       "    </tr>\n",
       "    <tr>\n",
       "      <th>4</th>\n",
       "      <td>31</td>\n",
       "      <td>1</td>\n",
       "      <td>1</td>\n",
       "      <td>199</td>\n",
       "      <td>0</td>\n",
       "      <td>0</td>\n",
       "      <td>2</td>\n",
       "      <td>136</td>\n",
       "      <td>0</td>\n",
       "      <td>5.3</td>\n",
       "      <td>3</td>\n",
       "      <td>2</td>\n",
       "      <td>1</td>\n",
       "    </tr>\n",
       "  </tbody>\n",
       "</table>\n",
       "</div>"
      ],
      "text/plain": [
       "   age  gender  chestpain  restingBP  serumcholestrol  fastingbloodsugar  \\\n",
       "0   53       1          2        171                0                  0   \n",
       "1   40       1          0         94              229                  0   \n",
       "2   49       1          2        133              142                  0   \n",
       "3   43       1          0        138              295                  1   \n",
       "4   31       1          1        199                0                  0   \n",
       "\n",
       "   restingrelectro  maxheartrate  exerciseangia  oldpeak  slope  \\\n",
       "0                1           147              0      5.3      3   \n",
       "1                1           115              0      3.7      1   \n",
       "2                0           202              1      5.0      1   \n",
       "3                1           153              0      3.2      2   \n",
       "4                2           136              0      5.3      3   \n",
       "\n",
       "   noofmajorvessels  target  \n",
       "0                 3       1  \n",
       "1                 1       0  \n",
       "2                 0       0  \n",
       "3                 2       1  \n",
       "4                 2       1  "
      ]
     },
     "execution_count": 16,
     "metadata": {},
     "output_type": "execute_result"
    },
    {
     "data": {
      "image/png": "[encoded data removed]",
      "text/plain": [
       "<Figure size 640x480 with 1 Axes>"
      ]
     },
     "metadata": {},
     "output_type": "display_data"
    }
   ],
   "source": [
    "# df['slope'].hist()\n",
    "slope_mean = int(math.ceil(df[df['slope'].isin([1, 2, 3])]['slope'].mean()))\n",
    "print(f\"slope_mean: {slope_mean}\")\n",
    "df.loc[:, 'slope'] = df['slope'].replace(0, slope_mean)\n",
    "df['slope'].hist()\n",
    "unique_values = df['slope'].unique()\n",
    "print(f\"unique_values: {unique_values}\")\n",
    "df.head()"
   ]
  },
  {
   "cell_type": "code",
   "execution_count": 17,
   "metadata": {},
   "outputs": [
    {
     "data": {
      "text/plain": [
       "<AxesSubplot:>"
      ]
     },
     "execution_count": 17,
     "metadata": {},
     "output_type": "execute_result"
    },
    {
     "data": {
      "image/png": "[encoded data removed]",
      "text/plain": [
       "<Figure size 640x480 with 1 Axes>"
      ]
     },
     "metadata": {},
     "output_type": "display_data"
    }
   ],
   "source": [
    "X['slope'].hist(color=\"red\")\n",
    "df['slope'].hist(color=\"darkblue\")"
   ]
  },
  {
   "cell_type": "code",
   "execution_count": 18,
   "metadata": {},
   "outputs": [
    {
     "data": {
      "text/plain": [
       "<AxesSubplot:>"
      ]
     },
     "execution_count": 18,
     "metadata": {},
     "output_type": "execute_result"
    },
    {
     "data": {
      "image/png": "[encoded data removed]",
      "text/plain": [
       "<Figure size 640x480 with 1 Axes>"
      ]
     },
     "metadata": {},
     "output_type": "display_data"
    }
   ],
   "source": [
    "# 1 = male so men are overrepresented in the dataset\n",
    "df['gender'].hist(color=\"darkblue\")\n",
    "X['gender'].hist(color=\"red\")"
   ]
  },
  {
   "cell_type": "code",
   "execution_count": 19,
   "metadata": {},
   "outputs": [],
   "source": [
    "X.loc[:, 'chestpain'] = X['chestpain'].replace({1:0, 2:1, 3:2, 4:3})"
   ]
  },
  {
   "cell_type": "code",
   "execution_count": 20,
   "metadata": {},
   "outputs": [
    {
     "data": {
      "text/plain": [
       "<AxesSubplot:>"
      ]
     },
     "execution_count": 20,
     "metadata": {},
     "output_type": "execute_result"
    },
    {
     "data": {
      "image/png": "[encoded data removed]",
      "text/plain": [
       "<Figure size 640x480 with 1 Axes>"
      ]
     },
     "metadata": {},
     "output_type": "display_data"
    }
   ],
   "source": [
    "df['chestpain'].hist(color=\"darkblue\")\n",
    "X['chestpain'].hist(color=\"red\")"
   ]
  },
  {
   "cell_type": "code",
   "execution_count": 21,
   "metadata": {},
   "outputs": [
    {
     "data": {
      "text/plain": [
       "<AxesSubplot:>"
      ]
     },
     "execution_count": 21,
     "metadata": {},
     "output_type": "execute_result"
    },
    {
     "data": {
      "image/png": "[encoded data removed]",
      "text/plain": [
       "<Figure size 640x480 with 1 Axes>"
      ]
     },
     "metadata": {},
     "output_type": "display_data"
    }
   ],
   "source": [
    "# for some reason, cleveland resting bp is lower\n",
    "df['restingBP'].hist(color=\"darkblue\")\n",
    "X['restingBP'].hist(color=\"red\")"
   ]
  },
  {
   "cell_type": "code",
   "execution_count": 22,
   "metadata": {},
   "outputs": [
    {
     "name": "stdout",
     "output_type": "stream",
     "text": [
      "0 602\n",
      "53\n"
     ]
    },
    {
     "data": {
      "image/png": "[encoded data removed]",
      "text/plain": [
       "<Figure size 640x480 with 1 Axes>"
      ]
     },
     "metadata": {},
     "output_type": "display_data"
    }
   ],
   "source": [
    "df['serumcholestrol'].hist(color=\"darkblue\")\n",
    "X['serumcholestrol'].hist(color=\"red\")\n",
    "print(df['serumcholestrol'].min(), df['serumcholestrol'].max())\n",
    "print(df['serumcholestrol'].value_counts()[0])"
   ]
  },
  {
   "cell_type": "code",
   "execution_count": 23,
   "metadata": {},
   "outputs": [
    {
     "name": "stdout",
     "output_type": "stream",
     "text": [
      "chol_mean: 329\n"
     ]
    }
   ],
   "source": [
    "# there are lots of 0 cholestrol value. assuming that's not physically possible, i'm replacing it with the mean\n",
    "chol_mean = int(math.ceil(df[df['serumcholestrol'] > 0]['serumcholestrol'].mean()))\n",
    "print(f\"chol_mean: {chol_mean}\")\n",
    "df.loc[:, 'serumcholestrol'] = df['serumcholestrol'].replace(0, chol_mean)"
   ]
  },
  {
   "cell_type": "code",
   "execution_count": 24,
   "metadata": {},
   "outputs": [
    {
     "name": "stdout",
     "output_type": "stream",
     "text": [
      "85 602\n"
     ]
    },
    {
     "data": {
      "image/png": "[encoded data removed]",
      "text/plain": [
       "<Figure size 640x480 with 1 Axes>"
      ]
     },
     "metadata": {},
     "output_type": "display_data"
    }
   ],
   "source": [
    "# cleveland cholestrol is lower\n",
    "df['serumcholestrol'].hist(color=\"darkblue\")\n",
    "X['serumcholestrol'].hist(color=\"red\")\n",
    "print(df['serumcholestrol'].min(), df['serumcholestrol'].max())"
   ]
  },
  {
   "cell_type": "code",
   "execution_count": 25,
   "metadata": {},
   "outputs": [
    {
     "data": {
      "text/plain": [
       "<AxesSubplot:>"
      ]
     },
     "execution_count": 25,
     "metadata": {},
     "output_type": "execute_result"
    },
    {
     "data": {
      "image/png": "[encoded data removed]",
      "text/plain": [
       "<Figure size 640x480 with 1 Axes>"
      ]
     },
     "metadata": {},
     "output_type": "display_data"
    }
   ],
   "source": [
    "df['fastingbloodsugar'].hist(color=\"darkblue\")\n",
    "X['fastingbloodsugar'].hist(color=\"red\")"
   ]
  },
  {
   "cell_type": "code",
   "execution_count": 28,
   "metadata": {},
   "outputs": [
    {
     "data": {
      "text/plain": [
       "<AxesSubplot:>"
      ]
     },
     "execution_count": 28,
     "metadata": {},
     "output_type": "execute_result"
    },
    {
     "data": {
      "image/png": "[encoded data removed]",
      "text/plain": [
       "<Figure size 640x480 with 1 Axes>"
      ]
     },
     "metadata": {},
     "output_type": "display_data"
    }
   ],
   "source": [
    "# Cleveland (X) has way less ST-T wave abnormalities\n",
    "df['restingrelectro'].hist(color=\"darkblue\")\n",
    "X['restingrelectro'].hist(color=\"red\")"
   ]
  },
  {
   "cell_type": "code",
   "execution_count": 31,
   "metadata": {},
   "outputs": [
    {
     "name": "stdout",
     "output_type": "stream",
     "text": [
      "71 202\n"
     ]
    },
    {
     "data": {
      "image/png": "[encoded data removed]",
      "text/plain": [
       "<Figure size 640x480 with 1 Axes>"
      ]
     },
     "metadata": {},
     "output_type": "display_data"
    }
   ],
   "source": [
    "# Cleveland has lower max heart rates on average\n",
    "df['maxheartrate'].hist(color=\"darkblue\")\n",
    "X['maxheartrate'].hist(color=\"red\")\n",
    "print(df['maxheartrate'].min(), df['maxheartrate'].max())"
   ]
  },
  {
   "cell_type": "code",
   "execution_count": 30,
   "metadata": {},
   "outputs": [
    {
     "data": {
      "text/plain": [
       "<AxesSubplot:>"
      ]
     },
     "execution_count": 30,
     "metadata": {},
     "output_type": "execute_result"
    },
    {
     "data": {
      "image/png": "[encoded data removed]",
      "text/plain": [
       "<Figure size 640x480 with 1 Axes>"
      ]
     },
     "metadata": {},
     "output_type": "display_data"
    }
   ],
   "source": [
    "df['exerciseangia'].hist(color=\"darkblue\")\n",
    "X['exerciseangia'].hist(color=\"red\")"
   ]
  },
  {
   "cell_type": "code",
   "execution_count": 32,
   "metadata": {},
   "outputs": [
    {
     "data": {
      "text/plain": [
       "<AxesSubplot:>"
      ]
     },
     "execution_count": 32,
     "metadata": {},
     "output_type": "execute_result"
    },
    {
     "data": {
      "image/png": "[encoded data removed]",
      "text/plain": [
       "<Figure size 640x480 with 1 Axes>"
      ]
     },
     "metadata": {},
     "output_type": "display_data"
    }
   ],
   "source": [
    "# oldpeak value of 0 is possible if patient is healthy? (help)\n",
    "df['oldpeak'].hist(color=\"darkblue\")\n",
    "X['oldpeak'].hist(color=\"red\")"
   ]
  },
  {
   "cell_type": "code",
   "execution_count": 33,
   "metadata": {},
   "outputs": [
    {
     "data": {
      "text/plain": [
       "<AxesSubplot:>"
      ]
     },
     "execution_count": 33,
     "metadata": {},
     "output_type": "execute_result"
    },
    {
     "data": {
      "image/png": "[encoded data removed]",
      "text/plain": [
       "<Figure size 640x480 with 1 Axes>"
      ]
     },
     "metadata": {},
     "output_type": "display_data"
    }
   ],
   "source": [
    "df['noofmajorvessels'].hist(color=\"darkblue\")\n",
    "X['noofmajorvessels'].hist(color=\"red\")"
   ]
  },
  {
   "cell_type": "markdown",
   "metadata": {},
   "source": [
    "All the data should be good now. Columns and value ranges should match."
   ]
  },
  {
   "cell_type": "code",
   "execution_count": 36,
   "metadata": {},
   "outputs": [
    {
     "name": "stdout",
     "output_type": "stream",
     "text": [
      "(1303, 13)\n"
     ]
    }
   ],
   "source": [
    "combined_df = pd.concat([X, df], axis=0, ignore_index=True)\n",
    "print(combined_df.shape)\n",
    "combined_df.to_csv(\"full_dataset.csv\", index=False)"
   ]
  }
 ],
 "metadata": {
  "kernelspec": {
   "display_name": "base",
   "language": "python",
   "name": "python3"
  },
  "language_info": {
   "codemirror_mode": {
    "name": "ipython",
    "version": 3
   },
   "file_extension": ".py",
   "mimetype": "text/x-python",
   "name": "python",
   "nbconvert_exporter": "python",
   "pygments_lexer": "ipython3",
   "version": "3.10.9"
  }
 },
 "nbformat": 4,
 "nbformat_minor": 2
}
